{
 "cells": [
  {
   "cell_type": "code",
   "execution_count": 1,
   "metadata": {},
   "outputs": [],
   "source": [
    "import numpy as np\n",
    "import pandas as pd\n",
    "import matplotlib.pyplot as plt\n",
    "import seaborn as sns\n",
    "from backtester import BackTester"
   ]
  },
  {
   "cell_type": "code",
   "execution_count": 2,
   "metadata": {},
   "outputs": [],
   "source": [
    "tester = BackTester(750, 50, \"prices.txt\")"
   ]
  },
  {
   "cell_type": "code",
   "execution_count": 3,
   "metadata": {},
   "outputs": [],
   "source": [
    "df = pd.DataFrame(tester.data.T)"
   ]
  },
  {
   "cell_type": "code",
   "execution_count": 4,
   "metadata": {},
   "outputs": [
    {
     "data": {
      "text/html": [
       "<div>\n",
       "<style scoped>\n",
       "    .dataframe tbody tr th:only-of-type {\n",
       "        vertical-align: middle;\n",
       "    }\n",
       "\n",
       "    .dataframe tbody tr th {\n",
       "        vertical-align: top;\n",
       "    }\n",
       "\n",
       "    .dataframe thead th {\n",
       "        text-align: right;\n",
       "    }\n",
       "</style>\n",
       "<table border=\"1\" class=\"dataframe\">\n",
       "  <thead>\n",
       "    <tr style=\"text-align: right;\">\n",
       "      <th></th>\n",
       "      <th>0</th>\n",
       "      <th>1</th>\n",
       "      <th>2</th>\n",
       "      <th>3</th>\n",
       "      <th>4</th>\n",
       "      <th>5</th>\n",
       "      <th>6</th>\n",
       "      <th>7</th>\n",
       "      <th>8</th>\n",
       "      <th>9</th>\n",
       "      <th>...</th>\n",
       "      <th>40</th>\n",
       "      <th>41</th>\n",
       "      <th>42</th>\n",
       "      <th>43</th>\n",
       "      <th>44</th>\n",
       "      <th>45</th>\n",
       "      <th>46</th>\n",
       "      <th>47</th>\n",
       "      <th>48</th>\n",
       "      <th>49</th>\n",
       "    </tr>\n",
       "  </thead>\n",
       "  <tbody>\n",
       "    <tr>\n",
       "      <th>count</th>\n",
       "      <td>750.000000</td>\n",
       "      <td>750.000000</td>\n",
       "      <td>750.000000</td>\n",
       "      <td>750.000000</td>\n",
       "      <td>750.000000</td>\n",
       "      <td>750.000000</td>\n",
       "      <td>750.000000</td>\n",
       "      <td>750.000000</td>\n",
       "      <td>750.000000</td>\n",
       "      <td>750.000000</td>\n",
       "      <td>...</td>\n",
       "      <td>750.000000</td>\n",
       "      <td>750.000000</td>\n",
       "      <td>750.000000</td>\n",
       "      <td>750.000000</td>\n",
       "      <td>750.000000</td>\n",
       "      <td>750.000000</td>\n",
       "      <td>750.000000</td>\n",
       "      <td>750.000000</td>\n",
       "      <td>750.000000</td>\n",
       "      <td>750.000000</td>\n",
       "    </tr>\n",
       "    <tr>\n",
       "      <th>mean</th>\n",
       "      <td>35.478173</td>\n",
       "      <td>59.342560</td>\n",
       "      <td>52.644373</td>\n",
       "      <td>32.591653</td>\n",
       "      <td>54.423133</td>\n",
       "      <td>29.333133</td>\n",
       "      <td>26.156987</td>\n",
       "      <td>52.958573</td>\n",
       "      <td>37.595293</td>\n",
       "      <td>71.913733</td>\n",
       "      <td>...</td>\n",
       "      <td>75.858733</td>\n",
       "      <td>47.850107</td>\n",
       "      <td>36.596040</td>\n",
       "      <td>31.584747</td>\n",
       "      <td>77.502493</td>\n",
       "      <td>28.497893</td>\n",
       "      <td>73.616947</td>\n",
       "      <td>19.871107</td>\n",
       "      <td>78.901387</td>\n",
       "      <td>30.853213</td>\n",
       "    </tr>\n",
       "    <tr>\n",
       "      <th>std</th>\n",
       "      <td>1.394284</td>\n",
       "      <td>4.700291</td>\n",
       "      <td>8.438597</td>\n",
       "      <td>2.305054</td>\n",
       "      <td>7.302339</td>\n",
       "      <td>1.771937</td>\n",
       "      <td>5.889256</td>\n",
       "      <td>5.223972</td>\n",
       "      <td>2.470817</td>\n",
       "      <td>11.320823</td>\n",
       "      <td>...</td>\n",
       "      <td>2.911402</td>\n",
       "      <td>4.379999</td>\n",
       "      <td>4.826003</td>\n",
       "      <td>3.425063</td>\n",
       "      <td>3.842469</td>\n",
       "      <td>0.749559</td>\n",
       "      <td>5.375440</td>\n",
       "      <td>2.824000</td>\n",
       "      <td>2.036854</td>\n",
       "      <td>1.894714</td>\n",
       "    </tr>\n",
       "    <tr>\n",
       "      <th>min</th>\n",
       "      <td>32.690000</td>\n",
       "      <td>50.640000</td>\n",
       "      <td>37.730000</td>\n",
       "      <td>27.510000</td>\n",
       "      <td>38.930000</td>\n",
       "      <td>25.830000</td>\n",
       "      <td>16.240000</td>\n",
       "      <td>41.560000</td>\n",
       "      <td>32.990000</td>\n",
       "      <td>51.260000</td>\n",
       "      <td>...</td>\n",
       "      <td>68.880000</td>\n",
       "      <td>39.670000</td>\n",
       "      <td>30.040000</td>\n",
       "      <td>26.310000</td>\n",
       "      <td>69.360000</td>\n",
       "      <td>27.080000</td>\n",
       "      <td>64.830000</td>\n",
       "      <td>15.730000</td>\n",
       "      <td>72.820000</td>\n",
       "      <td>26.410000</td>\n",
       "    </tr>\n",
       "    <tr>\n",
       "      <th>25%</th>\n",
       "      <td>34.352500</td>\n",
       "      <td>55.722500</td>\n",
       "      <td>45.805000</td>\n",
       "      <td>31.130000</td>\n",
       "      <td>48.792500</td>\n",
       "      <td>28.260000</td>\n",
       "      <td>20.662500</td>\n",
       "      <td>48.285000</td>\n",
       "      <td>35.590000</td>\n",
       "      <td>61.732500</td>\n",
       "      <td>...</td>\n",
       "      <td>73.580000</td>\n",
       "      <td>44.080000</td>\n",
       "      <td>33.670000</td>\n",
       "      <td>28.300000</td>\n",
       "      <td>74.145000</td>\n",
       "      <td>27.970000</td>\n",
       "      <td>69.600000</td>\n",
       "      <td>17.440000</td>\n",
       "      <td>77.890000</td>\n",
       "      <td>29.762500</td>\n",
       "    </tr>\n",
       "    <tr>\n",
       "      <th>50%</th>\n",
       "      <td>35.380000</td>\n",
       "      <td>58.790000</td>\n",
       "      <td>54.085000</td>\n",
       "      <td>32.470000</td>\n",
       "      <td>56.015000</td>\n",
       "      <td>28.870000</td>\n",
       "      <td>27.370000</td>\n",
       "      <td>52.720000</td>\n",
       "      <td>37.370000</td>\n",
       "      <td>73.760000</td>\n",
       "      <td>...</td>\n",
       "      <td>76.130000</td>\n",
       "      <td>48.170000</td>\n",
       "      <td>35.195000</td>\n",
       "      <td>31.590000</td>\n",
       "      <td>78.125000</td>\n",
       "      <td>28.450000</td>\n",
       "      <td>72.175000</td>\n",
       "      <td>18.645000</td>\n",
       "      <td>79.115000</td>\n",
       "      <td>31.245000</td>\n",
       "    </tr>\n",
       "    <tr>\n",
       "      <th>75%</th>\n",
       "      <td>36.430000</td>\n",
       "      <td>61.390000</td>\n",
       "      <td>60.137500</td>\n",
       "      <td>33.967500</td>\n",
       "      <td>60.372500</td>\n",
       "      <td>30.615000</td>\n",
       "      <td>30.737500</td>\n",
       "      <td>57.055000</td>\n",
       "      <td>39.320000</td>\n",
       "      <td>81.892500</td>\n",
       "      <td>...</td>\n",
       "      <td>77.797500</td>\n",
       "      <td>51.407500</td>\n",
       "      <td>38.387500</td>\n",
       "      <td>33.600000</td>\n",
       "      <td>80.810000</td>\n",
       "      <td>28.937500</td>\n",
       "      <td>76.250000</td>\n",
       "      <td>23.067500</td>\n",
       "      <td>80.020000</td>\n",
       "      <td>32.185000</td>\n",
       "    </tr>\n",
       "    <tr>\n",
       "      <th>max</th>\n",
       "      <td>38.800000</td>\n",
       "      <td>70.770000</td>\n",
       "      <td>67.510000</td>\n",
       "      <td>37.880000</td>\n",
       "      <td>66.680000</td>\n",
       "      <td>33.900000</td>\n",
       "      <td>37.370000</td>\n",
       "      <td>65.140000</td>\n",
       "      <td>45.550000</td>\n",
       "      <td>92.500000</td>\n",
       "      <td>...</td>\n",
       "      <td>83.120000</td>\n",
       "      <td>57.270000</td>\n",
       "      <td>50.760000</td>\n",
       "      <td>40.290000</td>\n",
       "      <td>86.690000</td>\n",
       "      <td>30.940000</td>\n",
       "      <td>88.970000</td>\n",
       "      <td>24.960000</td>\n",
       "      <td>84.700000</td>\n",
       "      <td>34.190000</td>\n",
       "    </tr>\n",
       "  </tbody>\n",
       "</table>\n",
       "<p>8 rows × 50 columns</p>\n",
       "</div>"
      ],
      "text/plain": [
       "               0           1           2           3           4           5   \\\n",
       "count  750.000000  750.000000  750.000000  750.000000  750.000000  750.000000   \n",
       "mean    35.478173   59.342560   52.644373   32.591653   54.423133   29.333133   \n",
       "std      1.394284    4.700291    8.438597    2.305054    7.302339    1.771937   \n",
       "min     32.690000   50.640000   37.730000   27.510000   38.930000   25.830000   \n",
       "25%     34.352500   55.722500   45.805000   31.130000   48.792500   28.260000   \n",
       "50%     35.380000   58.790000   54.085000   32.470000   56.015000   28.870000   \n",
       "75%     36.430000   61.390000   60.137500   33.967500   60.372500   30.615000   \n",
       "max     38.800000   70.770000   67.510000   37.880000   66.680000   33.900000   \n",
       "\n",
       "               6           7           8           9   ...          40  \\\n",
       "count  750.000000  750.000000  750.000000  750.000000  ...  750.000000   \n",
       "mean    26.156987   52.958573   37.595293   71.913733  ...   75.858733   \n",
       "std      5.889256    5.223972    2.470817   11.320823  ...    2.911402   \n",
       "min     16.240000   41.560000   32.990000   51.260000  ...   68.880000   \n",
       "25%     20.662500   48.285000   35.590000   61.732500  ...   73.580000   \n",
       "50%     27.370000   52.720000   37.370000   73.760000  ...   76.130000   \n",
       "75%     30.737500   57.055000   39.320000   81.892500  ...   77.797500   \n",
       "max     37.370000   65.140000   45.550000   92.500000  ...   83.120000   \n",
       "\n",
       "               41          42          43          44          45          46  \\\n",
       "count  750.000000  750.000000  750.000000  750.000000  750.000000  750.000000   \n",
       "mean    47.850107   36.596040   31.584747   77.502493   28.497893   73.616947   \n",
       "std      4.379999    4.826003    3.425063    3.842469    0.749559    5.375440   \n",
       "min     39.670000   30.040000   26.310000   69.360000   27.080000   64.830000   \n",
       "25%     44.080000   33.670000   28.300000   74.145000   27.970000   69.600000   \n",
       "50%     48.170000   35.195000   31.590000   78.125000   28.450000   72.175000   \n",
       "75%     51.407500   38.387500   33.600000   80.810000   28.937500   76.250000   \n",
       "max     57.270000   50.760000   40.290000   86.690000   30.940000   88.970000   \n",
       "\n",
       "               47          48          49  \n",
       "count  750.000000  750.000000  750.000000  \n",
       "mean    19.871107   78.901387   30.853213  \n",
       "std      2.824000    2.036854    1.894714  \n",
       "min     15.730000   72.820000   26.410000  \n",
       "25%     17.440000   77.890000   29.762500  \n",
       "50%     18.645000   79.115000   31.245000  \n",
       "75%     23.067500   80.020000   32.185000  \n",
       "max     24.960000   84.700000   34.190000  \n",
       "\n",
       "[8 rows x 50 columns]"
      ]
     },
     "execution_count": 4,
     "metadata": {},
     "output_type": "execute_result"
    }
   ],
   "source": [
    "df.describe()"
   ]
  },
  {
   "cell_type": "code",
   "execution_count": 5,
   "metadata": {},
   "outputs": [
    {
     "data": {
      "image/png": "[encoded data removed]",
      "text/plain": [
       "<Figure size 800x600 with 2 Axes>"
      ]
     },
     "metadata": {},
     "output_type": "display_data"
    }
   ],
   "source": [
    "corr_matrix = df.corr()\n",
    "plt.figure(figsize=(8, 6))\n",
    "sns.heatmap(corr_matrix, cmap=\"coolwarm\")\n",
    "plt.title(\"Correlation Matrix\")\n",
    "plt.show()"
   ]
  },
  {
   "cell_type": "code",
   "execution_count": 6,
   "metadata": {},
   "outputs": [
    {
     "data": {
      "text/plain": [
       "(50, 750)"
      ]
     },
     "execution_count": 6,
     "metadata": {},
     "output_type": "execute_result"
    }
   ],
   "source": [
    "tester.data.shape"
   ]
  },
  {
   "cell_type": "code",
   "execution_count": 7,
   "metadata": {},
   "outputs": [],
   "source": [
    "def get_correlation_islands(data, corr_matrix, threshold):\n",
    "    (n, _) = data.shape\n",
    "    visited = [False for _ in range(n)]\n",
    "    islands = []\n",
    "\n",
    "    def dfs(u, cur_l):\n",
    "        if visited[u]:\n",
    "            return\n",
    "        visited[u] = True\n",
    "        cur_l.append(u)\n",
    "\n",
    "        for v in range(n):\n",
    "            if u == v or visited[v] or abs(corr_matrix[u][v]) < threshold:\n",
    "                continue\n",
    "            dfs(v, cur_l)\n",
    "\n",
    "    for u in range(n):\n",
    "        if visited[u]:\n",
    "            continue\n",
    "        cur_l = []\n",
    "        dfs(u, cur_l)\n",
    "        islands.append(cur_l)\n",
    "\n",
    "    return [x for x in islands if len(x) > 1]"
   ]
  },
  {
   "cell_type": "code",
   "execution_count": 8,
   "metadata": {},
   "outputs": [
    {
     "name": "stdout",
     "output_type": "stream",
     "text": [
      "3 [2, 5, 2]\n"
     ]
    }
   ],
   "source": [
    "corr_islands = get_correlation_islands(tester.data, corr_matrix, 0.9)\n",
    "print(len(corr_islands), [len(x) for x in corr_islands])"
   ]
  },
  {
   "cell_type": "code",
   "execution_count": 9,
   "metadata": {},
   "outputs": [],
   "source": [
    "import plotly.graph_objs as go\n",
    "\n",
    "\n",
    "def plot_selected_stocks_by_index(df, col_indices, isNormalised=True):\n",
    "    \"\"\"\n",
    "    Plots selected columns by index from a pandas DataFrame using Plotly for interactivity.\n",
    "\n",
    "    Parameters:\n",
    "        df (pd.DataFrame): Your stock data.\n",
    "        col_indices (list): List of integer column indices to plot.\n",
    "        x (str or None): Column name to use for x-axis (e.g., 'Date'), or None to use index.\n",
    "        title (str): Plot title.\n",
    "    \"\"\"\n",
    "    fig = go.Figure()\n",
    "    for idx in col_indices:\n",
    "        col_name = df.columns[idx]\n",
    "        x_data = df.index\n",
    "        y_data = df.iloc[:, idx]\n",
    "        if isNormalised:\n",
    "            y_data = y_data / y_data.iloc[0]\n",
    "        fig.add_trace(go.Scatter(x=x_data, y=y_data, mode=\"lines\", name=str(col_name)))\n",
    "    fig.update_layout(\n",
    "        xaxis_title=\"Index\",\n",
    "        yaxis_title=\"Value\",\n",
    "        legend_title=\"Instrument\",\n",
    "        hovermode=\"x unified\",\n",
    "    )\n",
    "    fig.show()"
   ]
  },
  {
   "cell_type": "code",
   "execution_count": 11,
   "metadata": {},
   "outputs": [
    {
     "data": {
      "application/vnd.plotly.v1+json": {
       "config": {
        "plotlyServerURL": "https://plot.ly"
       },
       "data": [
        {
         "mode": "lines",
         "name": "1",
         "type": "scatter",
         "x": {
          "bdata": "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",
          "dtype": "i2"
         },
         "y": {
          "bdata": "AAAAAAAA8D+getLdkDbwP7v0d8anHfA/NGlZkpIT8D+MJM9OjSbwP8oLtS7SMfA/3AfOyTYh8D+VolucPx7wP8GNKOEfOvA/Ge+zqXss8D+kuZgEajLwP0Zlci33AvA/JqwGHgcg8D9aFWCwmTPwPygG8RGmQPA/LEW3OH888D96KLazKDfwP8GNKOEfOvA/Y5Ps/Usr8D9Hv1whliPwP0cZRxU1RPA/IyEV32tl8D8x3mdT91jwP+GgfuSuPfA/FQrYdkFR8D/dYbi91UHwP/Ocl38TLfA/K+vMROAb8D/gRpTwDx3wPwrYdkFRGPA/yLHKOjMR8D9neMgwhgbwPzMPb57z8u8/6cQgPsIU8D/pxCA+whTwP/JCrYt0DPA/Dxc9aCoU8D+/Mz7tgBnwP176O+PTDvA/RmVyLfcC8D/5Zk/lh+PvP26caoqZ3e8/bpxqipnd7z+vwhaRt+TvPxXh9M2eyu8/NEB26e+M7z+pdZGOAYfvP1wdhFLzRu8/fuSuPcCL7z+vwhaRt+TvP2u3jldfAvA/KZHiUEH77z8hE1YDjwPwP7lAo95p3O8/Um7wuUS17z+zp/LD8b/vP5WiW5w/HvA/eii2syg38D9wUD9y1x7wPwAAAAAAAPA/nyDo6fEV8D9Zu3W8+hLwP2u3jldfAvA/VCLFoYL27z/Isco6MxHwP5rhIcMYGvA/h4seNBUK8D9coFHvNO7vP4+vwI0o4e8/ATEHS/yZ7z+ByYpw+mbvP5peVCbXcu8/siQlJ7AY7z+vP0n0dT3vPzglUhwqaO8/KQ4VtP9T7z/ugBnIWWnvP00GR+rIMu8/xtQSqlJJ7z9uGZ3tVzbvP4qTQtZuHe8/3eYOw+2t7j/wEy+pTjfuP8tnKItHF+4/hKjLabHz7T9Ufjj+99vtP4L09oFzsu0/xs53cM/67T+bPZUfjv/tP9EA2aW/M+4/xJ1wJdNg7j/ZfmXzcSvuP5Vz3bkZSe4/o4oaIkRd7j+x7YKiMDDuP060gJiDJe4/Mjrbr2w+7j8gPsIUCE/uPyVUpZI+xO0/j1dfAmCF7T9YYxQxMrftP0KCH2OT7O0/eio/HP/77T9bF+kYcPjtPy2hKpX0Ie4/Im/JXwTp7T+5aw/w4ifuPx1Z5uHNc+4/5bDGKGJk7j91FFyeyIbuP8G4lPKYhe4/dRRcnsiG7j+Dd8QetVnuP7lrD/DiJ+4/hlygUe807j+rhdnStK3tP4bZ0rStje0/nW6caoqZ7T/wkGEMDZDtP+J5JKTie+0/Xy3MlqZt7T/u3Iwkz07tP3Ep5TELXe0/wWbOoFN47T93wpVMg3ntPwKNeqdxf+0/sh6K7SzK7T8IJivC6ZvtP8rkWu4FcO0/oVN4ncR07T/Z+5dWMITtP0eYAuHJYe0/YxKoyeBI7T+8zR2G21vtP3fClUyDee0/U8pjFrqa7T/elEhxqKDtP3TduRlJnu0/mNXrTxJ97T/gxU+8pDrtP7Y0bWtjP+0/MjRAdunv7D/pQ9wJVzLtP7+y+bgVN+0/Qv9RxlFF7T+AQCKaNXHtP00xs/tBfu0/xUuq041T7T/OyTYhQEvtP8rkWu4FcO0/0a4SVHom7T+2NG1rYz/tP8Z8sR6K7ew/z/o9bDzl7D9JyQksxvvsP1vFIscq6+w/RDBZEU7f7D/eEXvUZvnsP8wVYjkCCu0/PGahq9ko7T+hU3idxHTtPw/w4ideUu0/m7rHgkxY7T+Jvq7n52jtP9Ni5zu4Z+0/TmK6Rj4Y7T/wDZRvy+jsP67n52it4ew/qU43TjXF7D+9/iTR1/XsP1fgRpTwD+0/clrsfAf37D+WUh6z0NXsP3GmF5XJtew/qn8+mTFf7D8HIJCIZk3sP+MnXlKdbuw/YNsFRWFg7D8kTgpZu3XsP5xoATEHS+w/CwVsu6Ao7D8Ch99t7jDsP65kGsxrOuw/Q62LdAw47D/CFAhPDmvsP/6hAzu0Vew/nGgBMQdL7D/IrbhphofsPxSD+AhTIOw/5gw6hddJ7D/q8RW4ESXsP1pCVSrpQ+w/BWy7oCgM7D+z/crm41bsP7mWewFcc+w/3Y6tNyVS7D8ObRWLHKvsP30JgBW2iOw/99dL1T+f7D9IRjyPhFTsP27yQq2LdOw/vXtXNJZO7D+34qYZHjLsP/6hAzu0Vew/5gw6hddJ7D/b2thP5xDsP4YEP8Ym2es/R8Nu8kKt6z9AdunvjE/rPwjOyTYhQOs/3jzn5d9E6z9WV969KxrrP3OFWI6AQus/O9041RQz6z9+t7nDcHvrPwEEEtGsies/Qiq+18qQ6z9CKr7XypDrP3FUUUOEqOs/xXYW5Qaf6z9QQfs/9aTrP7CVIRdo1Os/tC7SMeDw6z9W2qtabcHrPyewGO+zqes/ihoiRF1O6z9FD5oKBWzrPwadwuskpus/reFMLyqT6z9HQKFVAQbrP9IKhrDvC+s/iWZNXB8N6z/kBp9LVPvqPwn/0IEd2uo/ttwL4Jrj6j/yaQfMQM7qP/Md3LN+D+s/BRr1TuP+6j/p63p+jtbqP2K6Rj4Y7eo/nJNtQoCW6j/2f+pJd0PqPwth3xcWDuo/UGxnUW7w6T+kjizz8ObpP2NogOzS3+k/mxCgpT7v6T+kjizz8ObpP5DePnBOtuk/5+XfRAuI6T8EFFoVYLDpP6SOLPPw5uk/MFkRTt/s6T91ZJmHN8/pP1BsZ1Fu8Ok/fuIl1enG6T/RBOt2bL3pP/b8HK01nOk/8GNskr1/6T/n5d9EC4jpP/BjbJK9f+k/aH5jaglV6T+2B3jxEy/pPz7tgBnIWek/ajI4UkeW6T8KrQow2MzpPyfbhAAt9ek/152bkeTZ6T/mtNj5Du7pP3cYbm91EOo/SqKv6/k56j9n0Cm8TmLqP5FhDA2QXeo/FK5kGsxr6j/+zG9MLaHqP6UR+o8yjuo/mK6RD0a76j8WYjkCCq3qP+zQVrHIseo/TFaE0zd76j8x3N7qIJTqP2mE/qOMo+o/gRnIWWmv6j+8psNFD5rqP+0BXvzES+o/vtfKkAs06j8mqn21MFvqPyheUp1unOo/HSzxZ35j6j99sR6K7SzqPxeTQE0GR+o/fmXzcStu6j8QyYjnkZDqP5b6vCcIeuo/FK5kGsxr6j+xdGIQH2HqPy33ArjmuOo/H+DFT7yk6j93mzsMt7fqP3pPEPT0+Oo/NUSIupwW6z9ScgKL8T7rP8xAzkp7Ves/t5Dgx9gk6z9kbhsmVi7rP4oaIkRdTus/oPsWEvwY6z+3kODH2CTrP7L3L61gCOs/W/CO2KM26z9jPRTbWZTrP0IqvtfKkOs/3jzn5d9E6z/VvlqYLU3rPzyRDb1SdOs/DxtPOded6z8PG085153rPzmsMYoYmes/Gsri0YUv6z9qB8xAzkrrP0UPmgoFbOs/+baMzvYr6z+g+xYS/BjrP8mM+WI9FOs/svcvrWAI6z9u7KdzCCbrP9Q7jfvrpeo/y70Arjmu6j93mzsMt7fqPykSJ4Ws3eo/azjTi8rk6j+BGchZaa/qPwGyS39nfOo/SHGooP2f6j9iukY+GO3qP3dqNMG6Hes/zEDOSntV6z/MQM5Ke1XrPy560FQoYOs/N/hcotpX6z+JZk1cHw3rP9IKhrDvC+s/zEDOSntV6z9FD5oKBWzrP06NJli3Y+s/13IvgGuO6z+PgssT2dDrP1AQ9PT4Cuw//O0uU3YU7D9IRjyPhFTsP5WeScuSlOw/t2V0tl/Z7D9ij9osn6HsP4ps6JWiW+w/yd6/tIIh7D8nM+aL9VDsP8IUCE8Oa+w/YNsFRWFg7D/4CFMgPDnsP2lZkpITWOw/dIvzxwOR7D+5lnsBXHPsP+MnXlKdbuw/JzPmi/VQ7D8LBWy7oCjsP1P1zycz5us/sJUhF2jU6z9Kd0PagO7rP2IMDZBd+us/F2jUO4376z+6x4JMWA3sP8nev7SCIew/1UEoNW/06z9Kd0PagO7rP7rHgkxYDew/7dbx6ksA7D87YAZyVtrrPysYwr4vLOw/sUn2/qUV7D+HuBOuZBrsP2uKmd0P8us/5z1B0NPj6z9xVFFDhKjrP7CVIRdo1Os/j4LLE9nQ6z+9rF5/kujrP4IfY5Ps/es/wpE6sszD6z+zev1Joq/rP363ucNwe+s/J7AY77Op6z8y4nkkpOLrP5m0LEnJCew/q7BF5C356z+qfz6ZMV/sP14nMV0jH+w/G9B9Cwl+7D8b0H0LCX7sP5xoATEHS+w/HQGFVgUY7D9HkmenRhPsPzh7Kj8c/+s/vXtXNJZO7D+l5o1+uULsPwy5QKPeaew/+AhTIDw57D+oy2mx8x3sP6XmjX65Quw/3r+0giHs6z/ipJC1W8frPyEXaNQ7jes/To0mWLdj6z+KGiJEXU7rP8anHTADOes/FDEytw0T6z/OcdWVd+/qP/ybaAExB+s/RFvFIscq6z8dr74EwArrP/ybaAExB+s/oq/r+Tla6z9voHxbRmfrP7z4iZdUp+s/HjKMoQGy6z/dC+Ca46rrPz5F4qSQtes/zvSiMrmW6z+DUGre6JfrP1Qm13IvgOs/b6B8W0Zn6z9+t7nDcHvrPyqV9CHuhOs/MxOBb6B86z+kY8Dhd5vrP3rS3ZA2oOs/mABYYYvI6z/kWGWdmQjsPzCxctmnSOw/xvnjgUhG7D8v/Z3xaQfsP5A2oPsWEuw/dbz6EgAr7D/ipJC1W8frP/k5Wms40+s/J7AY77Op6z9su6AoDIzrPyewGO+zqes/hzVGESNz6z/9Hjaecq7rP9dyL4Brjus/FbT/U0+66z8qlfQh7oTrPxiZ24aJles/3QvgmuOq6z+t4UwvKpPrPwTp7QPnZOs/OawxihiZ6z83+Fyi2lfrP6l5o1+uEOs//JtoATEH6z/X72HjKefqPzgpZO3W8eo/G/vpHILJ6j8t9wK45rjqP7ymw0UPmuo/AbJLf2d86j86Wms404vqP0hxqKD9n+o/qqqqqqqq6j/duRlJnp3qP3nMQlezUeo/Yjd5odZF6j87i3KDzyXqPz5wTrYJAeo/CHwD5dsy6j8Xk0BNBkfqP02Hix40Feo/wrymw0UP6j8aeByAQCLqP7OlaVsb++k/cX+9VP3z6T/UuL9eqv7pP6dCAdsuKOo/1Li/Xqr+6T/OHw9EMuLpPx5d+LJ6/ek/Mg3mNR0u6j+nQgHbLijqP6GpUMC2C+o/RAn/0IEd6j9ECf/QgR3qPwLjUspjFuo/dDOSPDs16j9n0Cm8TmLqP5b6vCcIeuo/1DuN++ul6j+eR0IqvtfqP5yTbUKAluo/d5s7DLe36j9XiOUIKLTqP5XJtdwL4Oo/lcm13Avg6j+bYmb3g/zqP8anHTADOes/mTFfrIdi6z+xxihiZG7rP9pXC7Olaes/SfR1PT9H6z+peaNfrhDrPwUa9U7j/uo/gOjADm0V6z8RTFaE0zfrP2y7oCgMjOs/IRdo1DuN6z+VTIN5TYfrP70pkeJQQes/kuTZqdEE6z8pEieFrN3qPz/zG1NLqOo/77Uy5AKN6j+ck21CgJbqP1OjCdbt2Oo/dLZf2Xzc6j8jSG8fOCfrP03ZUXB5Ius/W/CO2KM26z/pbkgb0H3rP1Qm13IvgOs/FuUGn0tU6z+BnJX2qlbrP5kxX6yHYus/VCbXci+A6z9dpGPA4XfrP2Yi8A2Ub+s/n8oPx/9+6z/g8LvNHYbrP9485+XfROs/57pzM5I86z9FD5oKBWzrP/bRsJu8UOs/CM7JNiFA6z/JjPliPRTrP0dAoVUBBus/cdGDpkIB6z/biBL+oQPrP9ijNstnKOs/Gsri0YUv6z8Ls6VpWxvrP3dqNMG6Hes/buyncwgm6z9KJX2IO+HqP2hT91iQCes/Ji1LUnIC6z/s0FaxyLHqP0olfYg74eo/LfcCuOa46j9Icaig/Z/qP9ggaS4mgeo/K0Mu0Kh36j+TFeH0zZ7qPzTBuh1bb+o/Q9j3hYWD6j/Ai594SXXqPyaqfbUwW+o/ecxCV7NR6j/YIGkuJoHqPyaqfbUwW+o/Jqp9tTBb6j/zmg4XPWjqP/Z/6kl3Q+o/lUboP8o46j/e6iCUmjfqPxp4HIBAIuo/mt+YWkJV6j+xdGIQH2HqPwth3xcWDuo/WerzniDo6T+HYLIinL7pP2/L6Gy/suk/dWSZhzfP6T+cQafwOonpP1RRQ4Soy+k/9vwcrTWc6T94SXW6carpP8iGXim6xek/Wxv76RyC6T/PUBaPLnzpP5X0Ie6EK+k/KT2TliUp6T+MdpWg0jPpP/KUc925Gek/isLAuJTy6D97q4NQat7oP1Iaof8o4+g/Fo2lE4P46D8cJlYu+xTpP1xMAjUZHOk/oCaDI3Vk6T/n5d9EC4jpP2SZhzfPeek/c7DEn/mN6T8mWLdj603pP/NISMX3Wuk/oCaDI3Vk6T9zsMSf+Y3pP13Pz9Faw+k/k8Mao4iR6T8yihiZ24bpP6a/Mz7tgOk/5+XfRAuI6T9htKsElZ7pPwj5NUiai+k/Cq0KMNjM6T9dz8/RWsPpP/IXQXr7wOk/LqU8ZqGr6T+ocwgmK8LpPw2S5mISqOk/w+2tDkKp6T9GOgYcfrfpP+mZtCxJyek/6Zm0LEnJ6T80Pu2AGcjpP+MABBLRrOk/kN4+cE626T+i2lcLs6XpPx+O//12l+k/ZJmHN8956T//eqn655PpPwveEXvUZuk/d8anHTAD6T+/hQQ/xibpP7nsUyROCuk//vfbXabs6D/ylHPduRnpPwoqPZOWJek/zpxBp/A66T8BrLBF5C3pP1POdedmJOk/kg9Gu0pQ6T9tFxSFgXHpP/zG1BKqUuk/6sq7d0Vj6T9SnW6caorpPxdBevvAOek/Uhqh/yjj6D/mYhKoyeDoP3fGpx0wA+k/gBMtIOZg6T+yIpy+2VPpP7YHePETL+k/E6jJ4Egd6T/ylHPduRnpP1lnJgLfQOk/fV9YOKgf6T8KKj2TliXpP7+FBD/GJuk/OFTQ/k896T8UXJ7Ihl7pPwGssEXkLek/mNn9IL8G6T/jfTZ1jwXpP1Iaof8o4+g/HwsyYTXw6D/+99tdpuzoP3urg1Bq3ug/3eSFWhfp6D8B3beQ4MfoPyLwDZRvy+g/vNEvV4jl6D/FT7ykOt3oP9Rm+Qxl8eg/qtUWvCP26D+Np5zrzs3oP7c4fzwQyeg/IvANlG/L6D+oIULU5bToP2Ji5bJPkeg/efeuaCyd6D81HS560FToP+iTGfPFeug/MYR9X1g46D/XyAejXSXoP5K9f2kFQ+g/iT/zG1NL6D+P2KM2y2foP4DBZs6gU+g/3xWNpROD6D807CYv1LroP/PFeii2s+g/6kfu2gO86D8dV115967oP4vzxwORjOg/VjCEfV9Y6D9uxU0zPGToP6wGHgcgkOg/GXKBRr3T6D/RgR3aKhbpP7nsUyROCuk/7PvCwkH96D8fCzJhNfDoPzK7H+TXIOk/BJGMeB4J6T+zU6MJ1u3oP2QWupqN0ug/YmLlsk+R6D9cyTSY13ToPzI4UkeWeeg/6JMZ88V66D/Dm+e8/JvoP1+uEMsRUOg/1OMrcCNK6D9VfK+VIRfoP4DBZs6gU+g/NR0uetBU6D895+XfRAvoP7a1sZ/OIeg/yLHKOjMR6D/jK3AjSvjnP+bfRAuIOeg/DIxLKY9Z6D9uxU0zPGToP4DBZs6gU+g/IyEV32tl6D8gPDmsMYroP74CN6KEf+g//yjjqKKG6D/WlwBYYYvoPzqF10lM1+g/B3Zoq1jk6D8HdmirWOToP9Rm+Qxl8eg/pTxmoavZ6D+bjdII/UfpP9yzfg8bT+k/BJGMeB4J6T/+99tdpuzoPybV6cappug/w5vnvPyb6D/19oFzsk3oPwMOv9vcYeg/O7belEhx6D+z0NVslEboP7EcAYVWBeg/zJambW3s5z87MxH4BsrnP5I6sszDm+c/7toDvPiJ5z+X02LnO7jnP5Ufjv/9duc/",
          "dtype": "f8"
         }
        },
        {
         "mode": "lines",
         "name": "49",
         "type": "scatter",
         "x": {
          "bdata": "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",
          "dtype": "i2"
         },
         "y": {
          "bdata": "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",
          "dtype": "f8"
         }
        }
       ],
       "layout": {
        "hovermode": "x unified",
        "legend": {
         "title": {
          "text": "Instrument"
         }
        },
        "template": {
         "data": {
          "bar": [
           {
            "error_x": {
             "color": "#2a3f5f"
            },
            "error_y": {
             "color": "#2a3f5f"
            },
            "marker": {
             "line": {
              "color": "#E5ECF6",
              "width": 0.5
             },
             "pattern": {
              "fillmode": "overlay",
              "size": 10,
              "solidity": 0.2
             }
            },
            "type": "bar"
           }
          ],
          "barpolar": [
           {
            "marker": {
             "line": {
              "color": "#E5ECF6",
              "width": 0.5
             },
             "pattern": {
              "fillmode": "overlay",
              "size": 10,
              "solidity": 0.2
             }
            },
            "type": "barpolar"
           }
          ],
          "carpet": [
           {
            "aaxis": {
             "endlinecolor": "#2a3f5f",
             "gridcolor": "white",
             "linecolor": "white",
             "minorgridcolor": "white",
             "startlinecolor": "#2a3f5f"
            },
            "baxis": {
             "endlinecolor": "#2a3f5f",
             "gridcolor": "white",
             "linecolor": "white",
             "minorgridcolor": "white",
             "startlinecolor": "#2a3f5f"
            },
            "type": "carpet"
           }
          ],
          "choropleth": [
           {
            "colorbar": {
             "outlinewidth": 0,
             "ticks": ""
            },
            "type": "choropleth"
           }
          ],
          "contour": [
           {
            "colorbar": {
             "outlinewidth": 0,
             "ticks": ""
            },
            "colorscale": [
             [
              0,
              "#0d0887"
             ],
             [
              0.1111111111111111,
              "#46039f"
             ],
             [
              0.2222222222222222,
              "#7201a8"
             ],
             [
              0.3333333333333333,
              "#9c179e"
             ],
             [
              0.4444444444444444,
              "#bd3786"
             ],
             [
              0.5555555555555556,
              "#d8576b"
             ],
             [
              0.6666666666666666,
              "#ed7953"
             ],
             [
              0.7777777777777778,
              "#fb9f3a"
             ],
             [
              0.8888888888888888,
              "#fdca26"
             ],
             [
              1,
              "#f0f921"
             ]
            ],
            "type": "contour"
           }
          ],
          "contourcarpet": [
           {
            "colorbar": {
             "outlinewidth": 0,
             "ticks": ""
            },
            "type": "contourcarpet"
           }
          ],
          "heatmap": [
           {
            "colorbar": {
             "outlinewidth": 0,
             "ticks": ""
            },
            "colorscale": [
             [
              0,
              "#0d0887"
             ],
             [
              0.1111111111111111,
              "#46039f"
             ],
             [
              0.2222222222222222,
              "#7201a8"
             ],
             [
              0.3333333333333333,
              "#9c179e"
             ],
             [
              0.4444444444444444,
              "#bd3786"
             ],
             [
              0.5555555555555556,
              "#d8576b"
             ],
             [
              0.6666666666666666,
              "#ed7953"
             ],
             [
              0.7777777777777778,
              "#fb9f3a"
             ],
             [
              0.8888888888888888,
              "#fdca26"
             ],
             [
              1,
              "#f0f921"
             ]
            ],
            "type": "heatmap"
           }
          ],
          "histogram": [
           {
            "marker": {
             "pattern": {
              "fillmode": "overlay",
              "size": 10,
              "solidity": 0.2
             }
            },
            "type": "histogram"
           }
          ],
          "histogram2d": [
           {
            "colorbar": {
             "outlinewidth": 0,
             "ticks": ""
            },
            "colorscale": [
             [
              0,
              "#0d0887"
             ],
             [
              0.1111111111111111,
              "#46039f"
             ],
             [
              0.2222222222222222,
              "#7201a8"
             ],
             [
              0.3333333333333333,
              "#9c179e"
             ],
             [
              0.4444444444444444,
              "#bd3786"
             ],
             [
              0.5555555555555556,
              "#d8576b"
             ],
             [
              0.6666666666666666,
              "#ed7953"
             ],
             [
              0.7777777777777778,
              "#fb9f3a"
             ],
             [
              0.8888888888888888,
              "#fdca26"
             ],
             [
              1,
              "#f0f921"
             ]
            ],
            "type": "histogram2d"
           }
          ],
          "histogram2dcontour": [
           {
            "colorbar": {
             "outlinewidth": 0,
             "ticks": ""
            },
            "colorscale": [
             [
              0,
              "#0d0887"
             ],
             [
              0.1111111111111111,
              "#46039f"
             ],
             [
              0.2222222222222222,
              "#7201a8"
             ],
             [
              0.3333333333333333,
              "#9c179e"
             ],
             [
              0.4444444444444444,
              "#bd3786"
             ],
             [
              0.5555555555555556,
              "#d8576b"
             ],
             [
              0.6666666666666666,
              "#ed7953"
             ],
             [
              0.7777777777777778,
              "#fb9f3a"
             ],
             [
              0.8888888888888888,
              "#fdca26"
             ],
             [
              1,
              "#f0f921"
             ]
            ],
            "type": "histogram2dcontour"
           }
          ],
          "mesh3d": [
           {
            "colorbar": {
             "outlinewidth": 0,
             "ticks": ""
            },
            "type": "mesh3d"
           }
          ],
          "parcoords": [
           {
            "line": {
             "colorbar": {
              "outlinewidth": 0,
              "ticks": ""
             }
            },
            "type": "parcoords"
           }
          ],
          "pie": [
           {
            "automargin": true,
            "type": "pie"
           }
          ],
          "scatter": [
           {
            "fillpattern": {
             "fillmode": "overlay",
             "size": 10,
             "solidity": 0.2
            },
            "type": "scatter"
           }
          ],
          "scatter3d": [
           {
            "line": {
             "colorbar": {
              "outlinewidth": 0,
              "ticks": ""
             }
            },
            "marker": {
             "colorbar": {
              "outlinewidth": 0,
              "ticks": ""
             }
            },
            "type": "scatter3d"
           }
          ],
          "scattercarpet": [
           {
            "marker": {
             "colorbar": {
              "outlinewidth": 0,
              "ticks": ""
             }
            },
            "type": "scattercarpet"
           }
          ],
          "scattergeo": [
           {
            "marker": {
             "colorbar": {
              "outlinewidth": 0,
              "ticks": ""
             }
            },
            "type": "scattergeo"
           }
          ],
          "scattergl": [
           {
            "marker": {
             "colorbar": {
              "outlinewidth": 0,
              "ticks": ""
             }
            },
            "type": "scattergl"
           }
          ],
          "scattermap": [
           {
            "marker": {
             "colorbar": {
              "outlinewidth": 0,
              "ticks": ""
             }
            },
            "type": "scattermap"
           }
          ],
          "scattermapbox": [
           {
            "marker": {
             "colorbar": {
              "outlinewidth": 0,
              "ticks": ""
             }
            },
            "type": "scattermapbox"
           }
          ],
          "scatterpolar": [
           {
            "marker": {
             "colorbar": {
              "outlinewidth": 0,
              "ticks": ""
             }
            },
            "type": "scatterpolar"
           }
          ],
          "scatterpolargl": [
           {
            "marker": {
             "colorbar": {
              "outlinewidth": 0,
              "ticks": ""
             }
            },
            "type": "scatterpolargl"
           }
          ],
          "scatterternary": [
           {
            "marker": {
             "colorbar": {
              "outlinewidth": 0,
              "ticks": ""
             }
            },
            "type": "scatterternary"
           }
          ],
          "surface": [
           {
            "colorbar": {
             "outlinewidth": 0,
             "ticks": ""
            },
            "colorscale": [
             [
              0,
              "#0d0887"
             ],
             [
              0.1111111111111111,
              "#46039f"
             ],
             [
              0.2222222222222222,
              "#7201a8"
             ],
             [
              0.3333333333333333,
              "#9c179e"
             ],
             [
              0.4444444444444444,
              "#bd3786"
             ],
             [
              0.5555555555555556,
              "#d8576b"
             ],
             [
              0.6666666666666666,
              "#ed7953"
             ],
             [
              0.7777777777777778,
              "#fb9f3a"
             ],
             [
              0.8888888888888888,
              "#fdca26"
             ],
             [
              1,
              "#f0f921"
             ]
            ],
            "type": "surface"
           }
          ],
          "table": [
           {
            "cells": {
             "fill": {
              "color": "#EBF0F8"
             },
             "line": {
              "color": "white"
             }
            },
            "header": {
             "fill": {
              "color": "#C8D4E3"
             },
             "line": {
              "color": "white"
             }
            },
            "type": "table"
           }
          ]
         },
         "layout": {
          "annotationdefaults": {
           "arrowcolor": "#2a3f5f",
           "arrowhead": 0,
           "arrowwidth": 1
          },
          "autotypenumbers": "strict",
          "coloraxis": {
           "colorbar": {
            "outlinewidth": 0,
            "ticks": ""
           }
          },
          "colorscale": {
           "diverging": [
            [
             0,
             "#8e0152"
            ],
            [
             0.1,
             "#c51b7d"
            ],
            [
             0.2,
             "#de77ae"
            ],
            [
             0.3,
             "#f1b6da"
            ],
            [
             0.4,
             "#fde0ef"
            ],
            [
             0.5,
             "#f7f7f7"
            ],
            [
             0.6,
             "#e6f5d0"
            ],
            [
             0.7,
             "#b8e186"
            ],
            [
             0.8,
             "#7fbc41"
            ],
            [
             0.9,
             "#4d9221"
            ],
            [
             1,
             "#276419"
            ]
           ],
           "sequential": [
            [
             0,
             "#0d0887"
            ],
            [
             0.1111111111111111,
             "#46039f"
            ],
            [
             0.2222222222222222,
             "#7201a8"
            ],
            [
             0.3333333333333333,
             "#9c179e"
            ],
            [
             0.4444444444444444,
             "#bd3786"
            ],
            [
             0.5555555555555556,
             "#d8576b"
            ],
            [
             0.6666666666666666,
             "#ed7953"
            ],
            [
             0.7777777777777778,
             "#fb9f3a"
            ],
            [
             0.8888888888888888,
             "#fdca26"
            ],
            [
             1,
             "#f0f921"
            ]
           ],
           "sequentialminus": [
            [
             0,
             "#0d0887"
            ],
            [
             0.1111111111111111,
             "#46039f"
            ],
            [
             0.2222222222222222,
             "#7201a8"
            ],
            [
             0.3333333333333333,
             "#9c179e"
            ],
            [
             0.4444444444444444,
             "#bd3786"
            ],
            [
             0.5555555555555556,
             "#d8576b"
            ],
            [
             0.6666666666666666,
             "#ed7953"
            ],
            [
             0.7777777777777778,
             "#fb9f3a"
            ],
            [
             0.8888888888888888,
             "#fdca26"
            ],
            [
             1,
             "#f0f921"
            ]
           ]
          },
          "colorway": [
           "#636efa",
           "#EF553B",
           "#00cc96",
           "#ab63fa",
           "#FFA15A",
           "#19d3f3",
           "#FF6692",
           "#B6E880",
           "#FF97FF",
           "#FECB52"
          ],
          "font": {
           "color": "#2a3f5f"
          },
          "geo": {
           "bgcolor": "white",
           "lakecolor": "white",
           "landcolor": "#E5ECF6",
           "showlakes": true,
           "showland": true,
           "subunitcolor": "white"
          },
          "hoverlabel": {
           "align": "left"
          },
          "hovermode": "closest",
          "mapbox": {
           "style": "light"
          },
          "paper_bgcolor": "white",
          "plot_bgcolor": "#E5ECF6",
          "polar": {
           "angularaxis": {
            "gridcolor": "white",
            "linecolor": "white",
            "ticks": ""
           },
           "bgcolor": "#E5ECF6",
           "radialaxis": {
            "gridcolor": "white",
            "linecolor": "white",
            "ticks": ""
           }
          },
          "scene": {
           "xaxis": {
            "backgroundcolor": "#E5ECF6",
            "gridcolor": "white",
            "gridwidth": 2,
            "linecolor": "white",
            "showbackground": true,
            "ticks": "",
            "zerolinecolor": "white"
           },
           "yaxis": {
            "backgroundcolor": "#E5ECF6",
            "gridcolor": "white",
            "gridwidth": 2,
            "linecolor": "white",
            "showbackground": true,
            "ticks": "",
            "zerolinecolor": "white"
           },
           "zaxis": {
            "backgroundcolor": "#E5ECF6",
            "gridcolor": "white",
            "gridwidth": 2,
            "linecolor": "white",
            "showbackground": true,
            "ticks": "",
            "zerolinecolor": "white"
           }
          },
          "shapedefaults": {
           "line": {
            "color": "#2a3f5f"
           }
          },
          "ternary": {
           "aaxis": {
            "gridcolor": "white",
            "linecolor": "white",
            "ticks": ""
           },
           "baxis": {
            "gridcolor": "white",
            "linecolor": "white",
            "ticks": ""
           },
           "bgcolor": "#E5ECF6",
           "caxis": {
            "gridcolor": "white",
            "linecolor": "white",
            "ticks": ""
           }
          },
          "title": {
           "x": 0.05
          },
          "xaxis": {
           "automargin": true,
           "gridcolor": "white",
           "linecolor": "white",
           "ticks": "",
           "title": {
            "standoff": 15
           },
           "zerolinecolor": "white",
           "zerolinewidth": 2
          },
          "yaxis": {
           "automargin": true,
           "gridcolor": "white",
           "linecolor": "white",
           "ticks": "",
           "title": {
            "standoff": 15
           },
           "zerolinecolor": "white",
           "zerolinewidth": 2
          }
         }
        },
        "xaxis": {
         "title": {
          "text": "Index"
         }
        },
        "yaxis": {
         "title": {
          "text": "Value"
         }
        }
       }
      }
     },
     "metadata": {},
     "output_type": "display_data"
    }
   ],
   "source": [
    "plot_selected_stocks_by_index(df, corr_islands[0])"
   ]
  },
  {
   "cell_type": "code",
   "execution_count": 18,
   "metadata": {},
   "outputs": [
    {
     "data": {
      "application/vnd.plotly.v1+json": {
       "config": {
        "plotlyServerURL": "https://plot.ly"
       },
       "data": [
        {
         "mode": "lines",
         "name": "0",
         "type": "scatter",
         "x": {
          "bdata": "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",
          "dtype": "i2"
         },
         "y": {
          "bdata": "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",
          "dtype": "f8"
         }
        },
        {
         "mode": "lines",
         "name": "1",
         "type": "scatter",
         "x": {
          "bdata": "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",
          "dtype": "i2"
         },
         "y": {
          "bdata": "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",
          "dtype": "f8"
         }
        },
        {
         "mode": "lines",
         "name": "2",
         "type": "scatter",
         "x": {
          "bdata": "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",
          "dtype": "i2"
         },
         "y": {
          "bdata": "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",
          "dtype": "f8"
         }
        },
        {
         "mode": "lines",
         "name": "3",
         "type": "scatter",
         "x": {
          "bdata": "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",
          "dtype": "i2"
         },
         "y": {
          "bdata": "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",
          "dtype": "f8"
         }
        },
        {
         "mode": "lines",
         "name": "4",
         "type": "scatter",
         "x": {
          "bdata": "AAABAAIAAwAEAAUABgAHAAgACQAKAAsADAANAA4ADwAQABEAEgATABQAFQAWABcAGAAZABoAGwAcAB0AHgAfACAAIQAiACMAJAAlACYAJwAoACkAKgArACwALQAuAC8AMAAxADIAMwA0ADUANgA3ADgAOQA6ADsAPAA9AD4APwBAAEEAQgBDAEQARQBGAEcASABJAEoASwBMAE0ATgBPAFAAUQBSAFMAVABVAFYAVwBYAFkAWgBbAFwAXQBeAF8AYABhAGIAYwBkAGUAZgBnAGgAaQBqAGsAbABtAG4AbwBwAHEAcgBzAHQAdQB2AHcAeAB5AHoAewB8AH0AfgB/AIAAgQCCAIMAhACFAIYAhwCIAIkAigCLAIwAjQCOAI8AkACRAJIAkwCUAJUAlgCXAJgAmQCaAJsAnACdAJ4AnwCgAKEAogCjAKQApQCmAKcAqACpAKoAqwCsAK0ArgCvALAAsQCyALMAtAC1ALYAtwC4ALkAugC7ALwAvQC+AL8AwADBAMIAwwDEAMUAxgDHAMgAyQDKAMsAzADNAM4AzwDQANEA0gDTANQA1QDWANcA2ADZANoA2wDcAN0A3gDfAOAA4QDiAOMA5ADlAOYA5wDoAOkA6gDrAOwA7QDuAO8A8ADxAPIA8wD0APUA9gD3APgA+QD6APsA/AD9AP4A/wAAAQEBAgEDAQQBBQEGAQcBCAEJAQoBCwEMAQ0BDgEPARABEQESARMBFAEVARYBFwEYARkBGgEbARwBHQEeAR8BIAEhASIBIwEkASUBJgEnASgBKQEqASsBLAEtAS4BLwEwATEBMgEzATQBNQE2ATcBOAE5AToBOwE8AT0BPgE/AUABQQFCAUMBRAFFAUYBRwFIAUkBSgFLAUwBTQFOAU8BUAFRAVIBUwFUAVUBVgFXAVgBWQFaAVsBXAFdAV4BXwFgAWEBYgFjAWQBZQFmAWcBaAFpAWoBawFsAW0BbgFvAXABcQFyAXMBdAF1AXYBdwF4AXkBegF7AXwBfQF+AX8BgAGBAYIBgwGEAYUBhgGHAYgBiQGKAYsBjAGNAY4BjwGQAZEBkgGTAZQBlQGWAZcBmAGZAZoBmwGcAZ0BngGfAaABoQGiAaMBpAGlAaYBpwGoAakBqgGrAawBrQGuAa8BsAGxAbIBswG0AbUBtgG3AbgBuQG6AbsBvAG9Ab4BvwHAAcEBwgHDAcQBxQHGAccByAHJAcoBywHMAc0BzgHPAdAB0QHSAdMB1AHVAdYB1wHYAdkB2gHbAdwB3QHeAd8B4AHhAeIB4wHkAeUB5gHnAegB6QHqAesB7AHtAe4B7wHwAfEB8gHzAfQB9QH2AfcB+AH5AfoB+wH8Af0B/gH/AQACAQICAgMCBAIFAgYCBwIIAgkCCgILAgwCDQIOAg8CEAIRAhICEwIUAhUCFgIXAhgCGQIaAhsCHAIdAh4CHwIgAiECIgIjAiQCJQImAicCKAIpAioCKwIsAi0CLgIvAjACMQIyAjMCNAI1AjYCNwI4AjkCOgI7AjwCPQI+Aj8CQAJBAkICQwJEAkUCRgJHAkgCSQJKAksCTAJNAk4CTwJQAlECUgJTAlQCVQJWAlcCWAJZAloCWwJcAl0CXgJfAmACYQJiAmMCZAJlAmYCZwJoAmkCagJrAmwCbQJuAm8CcAJxAnICcwJ0AnUCdgJ3AngCeQJ6AnsCfAJ9An4CfwKAAoECggKDAoQChQKGAocCiAKJAooCiwKMAo0CjgKPApACkQKSApMClAKVApYClwKYApkCmgKbApwCnQKeAp8CoAKhAqICowKkAqUCpgKnAqgCqQKqAqsCrAKtAq4CrwKwArECsgKzArQCtQK2ArcCuAK5AroCuwK8Ar0CvgK/AsACwQLCAsMCxALFAsYCxwLIAskCygLLAswCzQLOAs8C0ALRAtIC0wLUAtUC1gLXAtgC2QLaAtsC3ALdAt4C3wLgAuEC4gLjAuQC5QLmAucC6ALpAuoC6wLsAu0C",
          "dtype": "i2"
         },
         "y": {
          "bdata": "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",
          "dtype": "f8"
         }
        },
        {
         "mode": "lines",
         "name": "5",
         "type": "scatter",
         "x": {
          "bdata": "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",
          "dtype": "i2"
         },
         "y": {
          "bdata": "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",
          "dtype": "f8"
         }
        },
        {
         "mode": "lines",
         "name": "6",
         "type": "scatter",
         "x": {
          "bdata": "AAABAAIAAwAEAAUABgAHAAgACQAKAAsADAANAA4ADwAQABEAEgATABQAFQAWABcAGAAZABoAGwAcAB0AHgAfACAAIQAiACMAJAAlACYAJwAoACkAKgArACwALQAuAC8AMAAxADIAMwA0ADUANgA3ADgAOQA6ADsAPAA9AD4APwBAAEEAQgBDAEQARQBGAEcASABJAEoASwBMAE0ATgBPAFAAUQBSAFMAVABVAFYAVwBYAFkAWgBbAFwAXQBeAF8AYABhAGIAYwBkAGUAZgBnAGgAaQBqAGsAbABtAG4AbwBwAHEAcgBzAHQAdQB2AHcAeAB5AHoAewB8AH0AfgB/AIAAgQCCAIMAhACFAIYAhwCIAIkAigCLAIwAjQCOAI8AkACRAJIAkwCUAJUAlgCXAJgAmQCaAJsAnACdAJ4AnwCgAKEAogCjAKQApQCmAKcAqACpAKoAqwCsAK0ArgCvALAAsQCyALMAtAC1ALYAtwC4ALkAugC7ALwAvQC+AL8AwADBAMIAwwDEAMUAxgDHAMgAyQDKAMsAzADNAM4AzwDQANEA0gDTANQA1QDWANcA2ADZANoA2wDcAN0A3gDfAOAA4QDiAOMA5ADlAOYA5wDoAOkA6gDrAOwA7QDuAO8A8ADxAPIA8wD0APUA9gD3APgA+QD6APsA/AD9AP4A/wAAAQEBAgEDAQQBBQEGAQcBCAEJAQoBCwEMAQ0BDgEPARABEQESARMBFAEVARYBFwEYARkBGgEbARwBHQEeAR8BIAEhASIBIwEkASUBJgEnASgBKQEqASsBLAEtAS4BLwEwATEBMgEzATQBNQE2ATcBOAE5AToBOwE8AT0BPgE/AUABQQFCAUMBRAFFAUYBRwFIAUkBSgFLAUwBTQFOAU8BUAFRAVIBUwFUAVUBVgFXAVgBWQFaAVsBXAFdAV4BXwFgAWEBYgFjAWQBZQFmAWcBaAFpAWoBawFsAW0BbgFvAXABcQFyAXMBdAF1AXYBdwF4AXkBegF7AXwBfQF+AX8BgAGBAYIBgwGEAYUBhgGHAYgBiQGKAYsBjAGNAY4BjwGQAZEBkgGTAZQBlQGWAZcBmAGZAZoBmwGcAZ0BngGfAaABoQGiAaMBpAGlAaYBpwGoAakBqgGrAawBrQGuAa8BsAGxAbIBswG0AbUBtgG3AbgBuQG6AbsBvAG9Ab4BvwHAAcEBwgHDAcQBxQHGAccByAHJAcoBywHMAc0BzgHPAdAB0QHSAdMB1AHVAdYB1wHYAdkB2gHbAdwB3QHeAd8B4AHhAeIB4wHkAeUB5gHnAegB6QHqAesB7AHtAe4B7wHwAfEB8gHzAfQB9QH2AfcB+AH5AfoB+wH8Af0B/gH/AQACAQICAgMCBAIFAgYCBwIIAgkCCgILAgwCDQIOAg8CEAIRAhICEwIUAhUCFgIXAhgCGQIaAhsCHAIdAh4CHwIgAiECIgIjAiQCJQImAicCKAIpAioCKwIsAi0CLgIvAjACMQIyAjMCNAI1AjYCNwI4AjkCOgI7AjwCPQI+Aj8CQAJBAkICQwJEAkUCRgJHAkgCSQJKAksCTAJNAk4CTwJQAlECUgJTAlQCVQJWAlcCWAJZAloCWwJcAl0CXgJfAmACYQJiAmMCZAJlAmYCZwJoAmkCagJrAmwCbQJuAm8CcAJxAnICcwJ0AnUCdgJ3AngCeQJ6AnsCfAJ9An4CfwKAAoECggKDAoQChQKGAocCiAKJAooCiwKMAo0CjgKPApACkQKSApMClAKVApYClwKYApkCmgKbApwCnQKeAp8CoAKhAqICowKkAqUCpgKnAqgCqQKqAqsCrAKtAq4CrwKwArECsgKzArQCtQK2ArcCuAK5AroCuwK8Ar0CvgK/AsACwQLCAsMCxALFAsYCxwLIAskCygLLAswCzQLOAs8C0ALRAtIC0wLUAtUC1gLXAtgC2QLaAtsC3ALdAt4C3wLgAuEC4gLjAuQC5QLmAucC6ALpAuoC6wLsAu0C",
          "dtype": "i2"
         },
         "y": {
          "bdata": "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",
          "dtype": "f8"
         }
        },
        {
         "mode": "lines",
         "name": "7",
         "type": "scatter",
         "x": {
          "bdata": "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",
          "dtype": "i2"
         },
         "y": {
          "bdata": "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",
          "dtype": "f8"
         }
        },
        {
         "mode": "lines",
         "name": "8",
         "type": "scatter",
         "x": {
          "bdata": "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",
          "dtype": "i2"
         },
         "y": {
          "bdata": "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",
          "dtype": "f8"
         }
        },
        {
         "mode": "lines",
         "name": "9",
         "type": "scatter",
         "x": {
          "bdata": "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",
          "dtype": "i2"
         },
         "y": {
          "bdata": "SOF6FK7XUEAK16NwPRpRQPYoXI/CdVFA16NwPQqXUUBI4XoUrkdRQKRwPQrXE1FAAAAAAADAUEBSuB6F66FQQBSuR+F6hFBACtejcD1qUEBI4XoUrldQQFK4HoXrMVBAcT0K16MwUECamZmZmQlQQPYoXI/ClU9AexSuR+FaT0D2KFyPwlVPQMP1KFyPAk9AZmZmZmbGTkBxPQrXo9BOQB+F61G4Hk5AMzMzMzMzTkDhehSuR2FOQI/C9Shc705AUrgehetxT0DsUbgehctPQOxRuB6Fi09AAAAAAADATkCPwvUoXC9PQMP1KFyP4k9ASOF6FK7HT0CF61G4HmVPQHsUrkfhuk9AMzMzMzOTT0B7FK5H4TpPQLgehetReE9A9ihcj8K1T0BmZmZmZoZPQJqZmZmZWU9ASOF6FK7HT0Bcj8L1KAxQQFyPwvUoPFBAzczMzMwcUEApXI/C9UhQQBSuR+F61E9ASOF6FK6HT0C4HoXrUVhPQKRwPQrX405ASOF6FK4HT0BI4XoUridPQB+F61G4vk5AhetRuB4FT0DhehSuRwFPQK5H4XoUrk5ArkfhehSuTkDsUbgehWtOQPYoXI/CNU5AexSuR+E6TkBmZmZmZoZOQJqZmZmZmU5ApHA9CtcDT0AfhetRuP5OQOxRuB6Fi05ASOF6FK6nTkC4HoXrUZhOQFK4HoXrEU9AH4XrUbjeTkCamZmZmTlOQK5H4XoULk5AhetRuB4FT0BmZmZmZsZOQIXrUbgeJU9AuB6F61GYT0A9CtejcB1PQD0K16Nw/U5AFK5H4Xo0T0B7FK5H4bpOQM3MzMzMDE9AzczMzMwMT0ApXI/C9ShPQLgehetRGE9AmpmZmZn5TkAfhetRuB5PQKRwPQrXI09ACtejcD1KT0BxPQrXoxBPQD0K16NwHVBAhetRuB6FUEBxPQrXo6BQQPYoXI/CdVBAuB6F61GYUED2KFyPwnVQQBSuR+F6lFBACtejcD2qUEAAAAAAAMBQQArXo3A9qlBAKVyPwvWoUEAAAAAAANBQQBSuR+F6RFFA4XoUrkchUUDhehSuRwFRQEjhehSu11BArkfhehTOUEDsUbgehctQQHsUrkfhKlFA9ihcj8J1UUBcj8L1KPxQQK5H4XoU/lBAPQrXo3C9UEAAAAAAAABRQHE9Ctej8FBAAAAAAAAAUUAzMzMzM9NQQM3MzMzMfFBAKVyPwvVYUECPwvUoXB9QQGZmZmZmhlBArkfhehQeUEBSuB6F62FQQOxRuB6Fu1BAPQrXo3CdUEDhehSuR4FQQHsUrkfhilBA7FG4HoV7UECkcD0K15NQQHsUrkfhqlBAKVyPwvX4UEA9CtejcK1QQNejcD0K51BA9ihcj8I1UUCkcD0K11NRQArXo3A9SlFA9ihcj8IFUUBSuB6F67FQQD0K16NwbVBA9ihcj8JlUEAfhetRuE5QQB+F61G4TlBAFK5H4Xo0UEDXo3A9CldQQB+F61G4jlBA7FG4HoV7UEDhehSuRzFQQFK4HoXrUVBArkfhehROUEDD9Shcj2JQQBSuR+F6NFBAzczMzMw8UEC4HoXrUZhQQBSuR+F61FBAZmZmZmb2UEBSuB6F63FRQNejcD0Kd1FAMzMzMzNjUUD2KFyPwtVRQGZmZmZm9lFAw/UoXI9SUkCamZmZmZlSQK5H4XoUrlJAmpmZmZmpUkBxPQrXo6BSQEjhehSul1JAj8L1KFy/UkCuR+F6FJ5SQHE9Ctej4FJArkfhehR+UkAK16NwPapSQB+F61G4zlJAuB6F61EYU0Bcj8L1KExTQM3MzMzMfFNAPQrXo3C9U0CPwvUoXJ9TQHE9CtejsFNAhetRuB51U0AfhetRuP5TQB+F61G4rlNArkfhehQOVEDNzMzMzKxUQJqZmZmZuVRA16NwPQrHVECamZmZmalUQKRwPQrX81RAFK5H4XqkVEAUrkfhetRUQK5H4XoUvlRASOF6FK5HVUBmZmZmZlZVQDMzMzMzw1VAAAAAAACwVUCamZmZmZlVQEjhehSup1VACtejcD26VUBSuB6F62FVQArXo3A92lVAAAAAAAAQVkBxPQrXoyBWQBSuR+F6BFZAw/UoXI8CVkAzMzMzM5NVQBSuR+F69FVApHA9CtfTVUB7FK5H4YpVQPYoXI/ChVVAFK5H4XoEVkBSuB6F63FVQEjhehSuF1VAMzMzMzNDVUBI4XoUridVQI/C9Shcj1VA9ihcj8K1VUCF61G4HgVWQOxRuB6F61VA16NwPQrXVUD2KFyPwrVVQHE9Ctej8FVAzczMzMzsVUC4HoXrUThWQAAAAAAA8FVArkfhehTuVUDNzMzMzGxVQFyPwvUojFVAKVyPwvWoVUDsUbgehatVQMP1KFyPglVAPQrXo3B9VUBSuB6F64FVQPYoXI/CNVVApHA9CtcDVUDD9Shcj2JUQClcj8L1WFRA7FG4HoVrVEA9CtejcJ1TQM3MzMzMvFNAH4XrUbjOU0DsUbgehctTQNejcD0KZ1NAmpmZmZkpU0AAAAAAADBTQK5H4XoUblNAhetRuB41U0BI4XoUridTQK5H4XoUvlJAj8L1KFxvUkBcj8L1KGxSQOxRuB6Fi1JASOF6FK6HUkD2KFyPwoVSQD0K16NwbVJA4XoUrkdhUkCPwvUoXJ9SQI/C9Shcj1JAH4XrUbjeUkD2KFyPwrVSQBSuR+F6xFJAcT0K16MAU0DsUbgehetSQArXo3A9KlNAj8L1KFzvUkAfhetRuO5SQHsUrkfh2lJAKVyPwvXYUkDNzMzMzPxSQArXo3A96lJA16NwPQo3U0AfhetRuP5SQClcj8L1qFNAAAAAAABwVEBmZmZmZtZUQMP1KFyP0lRAUrgehesRVUDXo3A9CudUQM3MzMzMHFVAZmZmZmY2VUC4HoXrUShVQDMzMzMzA1VACtejcD3qVEBSuB6F63FVQM3MzMzMzFVAmpmZmZlpVkDD9Shcj5JWQB+F61G4PlZASOF6FK43VkDsUbgehatVQDMzMzMzA1ZA4XoUrkcBVkAzMzMzM8NVQFK4HoXrIVZAXI/C9SjsVUD2KFyPwrVVQM3MzMzMzFVASOF6FK73VUAfhetRuN5VQEjhehSut1VAZmZmZmbWVUCPwvUoXI9VQIXrUbgeRVVAMzMzMzNTVUBSuB6F66FVQAAAAAAAIFVAXI/C9SgMVUCPwvUoXO9UQOF6FK5HsVRA9ihcj8KlVEDhehSuR3FUQMP1KFyPIlRAw/UoXI+iVEDhehSuRxFUQLgehetRGFRAFK5H4XpkVEB7FK5H4VpUQPYoXI/CZVRAAAAAAACgVECF61G4HoVUQHsUrkfhalRAhetRuB6VVEBxPQrXo1BUQK5H4XoUnlRAj8L1KFwvVEDNzMzMzBxUQKRwPQrXA1RAZmZmZmYWVED2KFyPwuVTQD0K16NwHVRA9ihcj8L1U0CkcD0K10NUQHE9CtejEFRASOF6FK73U0CF61G4HmVUQArXo3A9mlRA7FG4HoWbVEA9CtejcN1UQHsUrkfh2lRAZmZmZmbGVEAAAAAAAMBUQI/C9Shcv1RAuB6F61EIVUAK16NwPRpVQGZmZmZmtlRAH4XrUbg+VUCamZmZmUlVQJqZmZmZmVVArkfhehS+VUCF61G4HqVVQLgehetRyFVAj8L1KFyPVkCamZmZmYlWQOF6FK5HcVZAuB6F61FIVkCF61G4HjVWQNejcD0Kt1ZApHA9CteTVkApXI/C9dhWQFyPwvUofFZApHA9CteDVkBxPQrXo6BWQGZmZmZmZlZASOF6FK4XVkDsUbgehatVQI/C9Shcf1VAMzMzMzNzVUBmZmZmZkZVQM3MzMzMTFVASOF6FK4XVUAzMzMzM0NVQD0K16NwbVVAXI/C9ShsVUA9CtejcN1VQAAAAAAAoFVAKVyPwvVYVkAfhetRuI5WQHE9CtejkFZA4XoUrkeRVkBcj8L1KExWQArXo3A9GlZACtejcD3qVUAUrkfhenRWQB+F61G4HlZA4XoUrkeRVkDD9Shcj1JWQHsUrkfhKlZA16NwPQqnVkAUrkfhemRWQNejcD0KB1ZAuB6F61H4VUCuR+F6FC5WQGZmZmZmJlZA7FG4HoWbVkAAAAAAAIBWQAAAAAAAIFdAuB6F61EoVkCamZmZmflWQBSuR+F6FFdAw/UoXI/iVkB7FK5H4YpWQMP1KFyPUlZAPQrXo3BNVkBI4XoUrsdVQHE9CtejEFZAzczMzMzcVUCuR+F6FH5VQHsUrkfhSlVAuB6F61FoVUAK16NwPUpVQEjhehSuJ1VAzczMzMw8VUDsUbgehRtVQHsUrkfhClVAXI/C9SgcVUBxPQrXo+BUQD0K16Nw3VRAmpmZmZlZVUDsUbgehStVQM3MzMzMTFVA16NwPQoXVUAzMzMzMxNVQClcj8L1GFVAXI/C9SgsVUCuR+F6FO5UQDMzMzMzM1VAUrgehevhVECF61G4HiVVQOF6FK5H0VRAmpmZmZnJVEBxPQrXo3BUQOxRuB6Fe1RAUrgehetxVECPwvUoXB9UQM3MzMzMLFRAzczMzMwcVEAK16NwPQpUQIXrUbgetVNACtejcD2qU0DsUbgehdtTQKRwPQrXk1NAmpmZmZnZU0A9CtejcG1TQDMzMzMzc1NAPQrXo3B9U0BxPQrXo8BTQLgehetR2FNAhetRuB7FU0AfhetRuG5TQBSuR+F6hFNAMzMzMzMTVEB7FK5H4VpUQEjhehSuF1RA4XoUrkcRVEApXI/C9RhUQGZmZmZmplNAXI/C9SicU0DXo3A9CpdTQDMzMzMzs1NAPQrXo3DdU0BmZmZmZrZTQMP1KFyPolNAZmZmZma2U0AK16NwPfpTQNejcD0KF1RAKVyPwvUYVEDhehSuRwFUQEjhehSu11NApHA9CtfzU0DNzMzMzCxUQPYoXI/CBVRAPQrXo3A9VEB7FK5H4ZpTQLgehetR6FNAzczMzMzcU0Bcj8L1KLxTQFyPwvUovFNA9ihcj8J1U0DhehSuR4FTQHsUrkfhGlNASOF6FK53U0CkcD0K15NTQB+F61G4vlNASOF6FK4HVEDsUbgehVtUQD0K16Nw7VNA16NwPQoHVEApXI/C9chTQB+F61G4zlNAmpmZmZmJU0ApXI/C9WhTQLgehetRSFNAj8L1KFw/U0DsUbgehVtTQJqZmZmZ2VNAw/UoXI9yU0Bcj8L1KBxTQK5H4XoUDlNA4XoUrkcxU0CkcD0K1/NSQOxRuB6F+1JA7FG4HoXbUkDD9Shcj8JSQD0K16NwzVJAhetRuB7FUkCF61G4HsVSQK5H4XoUnlJAUrgeheuBUkCF61G4HrVSQOxRuB6Fi1JAKVyPwvVoUkA9CtejcO1SQJqZmZmZ6VJAj8L1KFyvUkA9CtejcM1SQM3MzMzMnFJAZmZmZmZGUkBSuB6F65FSQBSuR+F6hFJArkfhehTeUkAfhetRuN5SQFyPwvUozFJAcT0K16OgUkDXo3A9CqdSQK5H4XoUrlJAw/UoXI/iUkBSuB6F68FSQClcj8L1aFJA16NwPQpHUkDhehSuR5FSQJqZmZmZiVJAZmZmZma2UkCuR+F6FM5SQGZmZmZmdlJAw/UoXI+CUkCuR+F6FJ5SQBSuR+F6xFJAj8L1KFzvUkAK16NwPTpTQFK4HoXrIVNASOF6FK43U0AfhetRuJ5TQJqZmZmZKVNAKVyPwvX4UkDXo3A9CmdSQBSuR+F6lFFAPQrXo3D9UUBxPQrXoxBSQFyPwvUoPFJAUrgehetxUkBmZmZmZmZSQMP1KFyPglJA9ihcj8LVUUDhehSuR4FRQHsUrkfhOlFAhetRuB4FUUDhehSuR9FQQJqZmZmZGVFAAAAAAADgUEB7FK5H4apQQJqZmZmZ6VBAcT0K16PwUECPwvUoXA9RQK5H4XoU7lBACtejcD26UECuR+F6FJ5QQPYoXI/CtVBAAAAAAACAUECPwvUoXE9QQKRwPQrXQ1BA7FG4HoUrUEDD9ShcjzJQQAAAAAAAAFBAexSuR+F6T0AAAAAAACBPQLgehetReE5AUrgeheuRTkCF61G4HoVPQIXrUbgepU9AMzMzMzOTT0AfhetRuL5PQKRwPQrXw09A16NwPQq3T0D2KFyPwlVPQGZmZmZmRk9A7FG4HoXLTkCF61G4HmVOQK5H4XoULk9A4XoUrkdhT0B7FK5H4XpPQArXo3A9qk5APQrXo3DdTkAK16NwPapOQKRwPQrXY05Aw/UoXI8iTkDD9Shcj6JOQB+F61G4Xk5ArkfhehSuTkC4HoXrUVhOQOxRuB6Fq01AUrgehevxTUDXo3A9CldOQI/C9ShcL05Aw/UoXI+CTUD2KFyPwjVNQDMzMzMzE01AhetRuB7lTEAAAAAAAGBMQIXrUbgeBU1AZmZmZmbmTEAAAAAAACBNQHE9CtejcE1AAAAAAADATUDsUbgehStOQM3MzMzMLE5A9ihcj8J1TUDsUbgehYtNQClcj8L1qE1AZmZmZmZmTUB7FK5H4VpNQFK4HoXrUU1AH4XrUbgeTUC4HoXrUXhNQHE9Ctej0E1AhetRuB5lTUCkcD0K1+NMQOF6FK5HoUxArkfhehQOTEBcj8L1KLxLQHsUrkfh2ktAAAAAAABgS0Bcj8L1KJxLQFyPwvUonEtAH4XrUbg+S0AAAAAAAEBLQClcj8L1yEtAUrgehevRS0D2KFyPwvVLQLgehetRWExASOF6FK4nTEAzMzMzMxNMQJqZmZmZGUtA4XoUrkfhSkAzMzMzM1NKQFK4HoXr8UpAzczMzMxMS0BmZmZmZgZLQHE9Ctej0EpAmpmZmZn5SkAAAAAAAIBKQArXo3A9SkpAuB6F61H4SUDhehSuR6FJQD0K16Nw3UlAcT0K16PQSUBI4XoUrqdJQLgehetROEpASOF6FK6HSkAfhetRuN5KQD0K16NwHUtArkfhehSuS0AK16NwPepLQJqZmZmZ+UtAj8L1KFwvTED2KFyPwtVLQFK4HoXrkUxAj8L1KFzvTED2KFyPwrVMQClcj8L1SExA7FG4HoUrTEApXI/C9ShMQM3MzMzM7EtAZmZmZmbmS0DNzMzMzMxLQHsUrkfh+ktACtejcD1qS0CkcD0K14NLQPYoXI/CtUtA7FG4HoXLS0DhehSuR8FLQKRwPQrXo0tAexSuR+GaS0D2KFyPwnVLQMP1KFyPQktAhetRuB5lS0D2KFyPwjVLQMP1KFyPAktA4XoUrkdBS0DhehSuR6FLQIXrUbgehUtAFK5H4XpUS0BSuB6F65FLQBSuR+F61EtA7FG4HoULTECkcD0K18NMQJqZmZmZmUxAH4XrUbg+TEBI4XoUrgdMQI/C9Shcb0xAuB6F61F4TEAK16NwPWpMQM3MzMzMTExAj8L1KFwvTEApXI/C9UhMQM3MzMzMTExAMzMzMzPTS0BSuB6F61FMQLgehetR+ExAAAAAAABATUAUrkfhehRNQPYoXI/ClUxAw/UoXI/iTEBI4XoUrgdNQKRwPQrXg01AH4XrUbieTECF61G4HuVMQDMzMzMzc0xAhetRuB7lS0Bcj8L1KNxLQDMzMzMzM0xAZmZmZmZmTEAK16NwPepMQPYoXI/C1UxAXI/C9Sh8TEAAAAAAAKBMQFyPwvUovExAH4XrUbgeTUDsUbgehStNQHE9CtejkE1AuB6F61HYTUApXI/C9ShOQFyPwvUoPE5ApHA9CteDTkCkcD0K1wNPQArXo3A96k5AFK5H4Xo0T0BI4XoUrsdOQOF6FK5HQU5ArkfhehQOTkBmZmZmZkZOQBSuR+F69E1AmpmZmZlZTkB7FK5H4bpOQMP1KFyPQk5AuB6F61HYTUAfhetRuL5NQI/C9Shcj01AAAAAAADgTUAAAAAAAMBNQLgehetR2E1AAAAAAABATkBI4XoUrkdNQGZmZmZmBk1ArkfhehTOTEBI4XoUrodNQMP1KFyPwk1A",
          "dtype": "f8"
         }
        }
       ],
       "layout": {
        "hovermode": "x unified",
        "legend": {
         "title": {
          "text": "Instrument"
         }
        },
        "template": {
         "data": {
          "bar": [
           {
            "error_x": {
             "color": "#2a3f5f"
            },
            "error_y": {
             "color": "#2a3f5f"
            },
            "marker": {
             "line": {
              "color": "#E5ECF6",
              "width": 0.5
             },
             "pattern": {
              "fillmode": "overlay",
              "size": 10,
              "solidity": 0.2
             }
            },
            "type": "bar"
           }
          ],
          "barpolar": [
           {
            "marker": {
             "line": {
              "color": "#E5ECF6",
              "width": 0.5
             },
             "pattern": {
              "fillmode": "overlay",
              "size": 10,
              "solidity": 0.2
             }
            },
            "type": "barpolar"
           }
          ],
          "carpet": [
           {
            "aaxis": {
             "endlinecolor": "#2a3f5f",
             "gridcolor": "white",
             "linecolor": "white",
             "minorgridcolor": "white",
             "startlinecolor": "#2a3f5f"
            },
            "baxis": {
             "endlinecolor": "#2a3f5f",
             "gridcolor": "white",
             "linecolor": "white",
             "minorgridcolor": "white",
             "startlinecolor": "#2a3f5f"
            },
            "type": "carpet"
           }
          ],
          "choropleth": [
           {
            "colorbar": {
             "outlinewidth": 0,
             "ticks": ""
            },
            "type": "choropleth"
           }
          ],
          "contour": [
           {
            "colorbar": {
             "outlinewidth": 0,
             "ticks": ""
            },
            "colorscale": [
             [
              0,
              "#0d0887"
             ],
             [
              0.1111111111111111,
              "#46039f"
             ],
             [
              0.2222222222222222,
              "#7201a8"
             ],
             [
              0.3333333333333333,
              "#9c179e"
             ],
             [
              0.4444444444444444,
              "#bd3786"
             ],
             [
              0.5555555555555556,
              "#d8576b"
             ],
             [
              0.6666666666666666,
              "#ed7953"
             ],
             [
              0.7777777777777778,
              "#fb9f3a"
             ],
             [
              0.8888888888888888,
              "#fdca26"
             ],
             [
              1,
              "#f0f921"
             ]
            ],
            "type": "contour"
           }
          ],
          "contourcarpet": [
           {
            "colorbar": {
             "outlinewidth": 0,
             "ticks": ""
            },
            "type": "contourcarpet"
           }
          ],
          "heatmap": [
           {
            "colorbar": {
             "outlinewidth": 0,
             "ticks": ""
            },
            "colorscale": [
             [
              0,
              "#0d0887"
             ],
             [
              0.1111111111111111,
              "#46039f"
             ],
             [
              0.2222222222222222,
              "#7201a8"
             ],
             [
              0.3333333333333333,
              "#9c179e"
             ],
             [
              0.4444444444444444,
              "#bd3786"
             ],
             [
              0.5555555555555556,
              "#d8576b"
             ],
             [
              0.6666666666666666,
              "#ed7953"
             ],
             [
              0.7777777777777778,
              "#fb9f3a"
             ],
             [
              0.8888888888888888,
              "#fdca26"
             ],
             [
              1,
              "#f0f921"
             ]
            ],
            "type": "heatmap"
           }
          ],
          "histogram": [
           {
            "marker": {
             "pattern": {
              "fillmode": "overlay",
              "size": 10,
              "solidity": 0.2
             }
            },
            "type": "histogram"
           }
          ],
          "histogram2d": [
           {
            "colorbar": {
             "outlinewidth": 0,
             "ticks": ""
            },
            "colorscale": [
             [
              0,
              "#0d0887"
             ],
             [
              0.1111111111111111,
              "#46039f"
             ],
             [
              0.2222222222222222,
              "#7201a8"
             ],
             [
              0.3333333333333333,
              "#9c179e"
             ],
             [
              0.4444444444444444,
              "#bd3786"
             ],
             [
              0.5555555555555556,
              "#d8576b"
             ],
             [
              0.6666666666666666,
              "#ed7953"
             ],
             [
              0.7777777777777778,
              "#fb9f3a"
             ],
             [
              0.8888888888888888,
              "#fdca26"
             ],
             [
              1,
              "#f0f921"
             ]
            ],
            "type": "histogram2d"
           }
          ],
          "histogram2dcontour": [
           {
            "colorbar": {
             "outlinewidth": 0,
             "ticks": ""
            },
            "colorscale": [
             [
              0,
              "#0d0887"
             ],
             [
              0.1111111111111111,
              "#46039f"
             ],
             [
              0.2222222222222222,
              "#7201a8"
             ],
             [
              0.3333333333333333,
              "#9c179e"
             ],
             [
              0.4444444444444444,
              "#bd3786"
             ],
             [
              0.5555555555555556,
              "#d8576b"
             ],
             [
              0.6666666666666666,
              "#ed7953"
             ],
             [
              0.7777777777777778,
              "#fb9f3a"
             ],
             [
              0.8888888888888888,
              "#fdca26"
             ],
             [
              1,
              "#f0f921"
             ]
            ],
            "type": "histogram2dcontour"
           }
          ],
          "mesh3d": [
           {
            "colorbar": {
             "outlinewidth": 0,
             "ticks": ""
            },
            "type": "mesh3d"
           }
          ],
          "parcoords": [
           {
            "line": {
             "colorbar": {
              "outlinewidth": 0,
              "ticks": ""
             }
            },
            "type": "parcoords"
           }
          ],
          "pie": [
           {
            "automargin": true,
            "type": "pie"
           }
          ],
          "scatter": [
           {
            "fillpattern": {
             "fillmode": "overlay",
             "size": 10,
             "solidity": 0.2
            },
            "type": "scatter"
           }
          ],
          "scatter3d": [
           {
            "line": {
             "colorbar": {
              "outlinewidth": 0,
              "ticks": ""
             }
            },
            "marker": {
             "colorbar": {
              "outlinewidth": 0,
              "ticks": ""
             }
            },
            "type": "scatter3d"
           }
          ],
          "scattercarpet": [
           {
            "marker": {
             "colorbar": {
              "outlinewidth": 0,
              "ticks": ""
             }
            },
            "type": "scattercarpet"
           }
          ],
          "scattergeo": [
           {
            "marker": {
             "colorbar": {
              "outlinewidth": 0,
              "ticks": ""
             }
            },
            "type": "scattergeo"
           }
          ],
          "scattergl": [
           {
            "marker": {
             "colorbar": {
              "outlinewidth": 0,
              "ticks": ""
             }
            },
            "type": "scattergl"
           }
          ],
          "scattermap": [
           {
            "marker": {
             "colorbar": {
              "outlinewidth": 0,
              "ticks": ""
             }
            },
            "type": "scattermap"
           }
          ],
          "scattermapbox": [
           {
            "marker": {
             "colorbar": {
              "outlinewidth": 0,
              "ticks": ""
             }
            },
            "type": "scattermapbox"
           }
          ],
          "scatterpolar": [
           {
            "marker": {
             "colorbar": {
              "outlinewidth": 0,
              "ticks": ""
             }
            },
            "type": "scatterpolar"
           }
          ],
          "scatterpolargl": [
           {
            "marker": {
             "colorbar": {
              "outlinewidth": 0,
              "ticks": ""
             }
            },
            "type": "scatterpolargl"
           }
          ],
          "scatterternary": [
           {
            "marker": {
             "colorbar": {
              "outlinewidth": 0,
              "ticks": ""
             }
            },
            "type": "scatterternary"
           }
          ],
          "surface": [
           {
            "colorbar": {
             "outlinewidth": 0,
             "ticks": ""
            },
            "colorscale": [
             [
              0,
              "#0d0887"
             ],
             [
              0.1111111111111111,
              "#46039f"
             ],
             [
              0.2222222222222222,
              "#7201a8"
             ],
             [
              0.3333333333333333,
              "#9c179e"
             ],
             [
              0.4444444444444444,
              "#bd3786"
             ],
             [
              0.5555555555555556,
              "#d8576b"
             ],
             [
              0.6666666666666666,
              "#ed7953"
             ],
             [
              0.7777777777777778,
              "#fb9f3a"
             ],
             [
              0.8888888888888888,
              "#fdca26"
             ],
             [
              1,
              "#f0f921"
             ]
            ],
            "type": "surface"
           }
          ],
          "table": [
           {
            "cells": {
             "fill": {
              "color": "#EBF0F8"
             },
             "line": {
              "color": "white"
             }
            },
            "header": {
             "fill": {
              "color": "#C8D4E3"
             },
             "line": {
              "color": "white"
             }
            },
            "type": "table"
           }
          ]
         },
         "layout": {
          "annotationdefaults": {
           "arrowcolor": "#2a3f5f",
           "arrowhead": 0,
           "arrowwidth": 1
          },
          "autotypenumbers": "strict",
          "coloraxis": {
           "colorbar": {
            "outlinewidth": 0,
            "ticks": ""
           }
          },
          "colorscale": {
           "diverging": [
            [
             0,
             "#8e0152"
            ],
            [
             0.1,
             "#c51b7d"
            ],
            [
             0.2,
             "#de77ae"
            ],
            [
             0.3,
             "#f1b6da"
            ],
            [
             0.4,
             "#fde0ef"
            ],
            [
             0.5,
             "#f7f7f7"
            ],
            [
             0.6,
             "#e6f5d0"
            ],
            [
             0.7,
             "#b8e186"
            ],
            [
             0.8,
             "#7fbc41"
            ],
            [
             0.9,
             "#4d9221"
            ],
            [
             1,
             "#276419"
            ]
           ],
           "sequential": [
            [
             0,
             "#0d0887"
            ],
            [
             0.1111111111111111,
             "#46039f"
            ],
            [
             0.2222222222222222,
             "#7201a8"
            ],
            [
             0.3333333333333333,
             "#9c179e"
            ],
            [
             0.4444444444444444,
             "#bd3786"
            ],
            [
             0.5555555555555556,
             "#d8576b"
            ],
            [
             0.6666666666666666,
             "#ed7953"
            ],
            [
             0.7777777777777778,
             "#fb9f3a"
            ],
            [
             0.8888888888888888,
             "#fdca26"
            ],
            [
             1,
             "#f0f921"
            ]
           ],
           "sequentialminus": [
            [
             0,
             "#0d0887"
            ],
            [
             0.1111111111111111,
             "#46039f"
            ],
            [
             0.2222222222222222,
             "#7201a8"
            ],
            [
             0.3333333333333333,
             "#9c179e"
            ],
            [
             0.4444444444444444,
             "#bd3786"
            ],
            [
             0.5555555555555556,
             "#d8576b"
            ],
            [
             0.6666666666666666,
             "#ed7953"
            ],
            [
             0.7777777777777778,
             "#fb9f3a"
            ],
            [
             0.8888888888888888,
             "#fdca26"
            ],
            [
             1,
             "#f0f921"
            ]
           ]
          },
          "colorway": [
           "#636efa",
           "#EF553B",
           "#00cc96",
           "#ab63fa",
           "#FFA15A",
           "#19d3f3",
           "#FF6692",
           "#B6E880",
           "#FF97FF",
           "#FECB52"
          ],
          "font": {
           "color": "#2a3f5f"
          },
          "geo": {
           "bgcolor": "white",
           "lakecolor": "white",
           "landcolor": "#E5ECF6",
           "showlakes": true,
           "showland": true,
           "subunitcolor": "white"
          },
          "hoverlabel": {
           "align": "left"
          },
          "hovermode": "closest",
          "mapbox": {
           "style": "light"
          },
          "paper_bgcolor": "white",
          "plot_bgcolor": "#E5ECF6",
          "polar": {
           "angularaxis": {
            "gridcolor": "white",
            "linecolor": "white",
            "ticks": ""
           },
           "bgcolor": "#E5ECF6",
           "radialaxis": {
            "gridcolor": "white",
            "linecolor": "white",
            "ticks": ""
           }
          },
          "scene": {
           "xaxis": {
            "backgroundcolor": "#E5ECF6",
            "gridcolor": "white",
            "gridwidth": 2,
            "linecolor": "white",
            "showbackground": true,
            "ticks": "",
            "zerolinecolor": "white"
           },
           "yaxis": {
            "backgroundcolor": "#E5ECF6",
            "gridcolor": "white",
            "gridwidth": 2,
            "linecolor": "white",
            "showbackground": true,
            "ticks": "",
            "zerolinecolor": "white"
           },
           "zaxis": {
            "backgroundcolor": "#E5ECF6",
            "gridcolor": "white",
            "gridwidth": 2,
            "linecolor": "white",
            "showbackground": true,
            "ticks": "",
            "zerolinecolor": "white"
           }
          },
          "shapedefaults": {
           "line": {
            "color": "#2a3f5f"
           }
          },
          "ternary": {
           "aaxis": {
            "gridcolor": "white",
            "linecolor": "white",
            "ticks": ""
           },
           "baxis": {
            "gridcolor": "white",
            "linecolor": "white",
            "ticks": ""
           },
           "bgcolor": "#E5ECF6",
           "caxis": {
            "gridcolor": "white",
            "linecolor": "white",
            "ticks": ""
           }
          },
          "title": {
           "x": 0.05
          },
          "xaxis": {
           "automargin": true,
           "gridcolor": "white",
           "linecolor": "white",
           "ticks": "",
           "title": {
            "standoff": 15
           },
           "zerolinecolor": "white",
           "zerolinewidth": 2
          },
          "yaxis": {
           "automargin": true,
           "gridcolor": "white",
           "linecolor": "white",
           "ticks": "",
           "title": {
            "standoff": 15
           },
           "zerolinecolor": "white",
           "zerolinewidth": 2
          }
         }
        },
        "xaxis": {
         "title": {
          "text": "Index"
         }
        },
        "yaxis": {
         "title": {
          "text": "Value"
         }
        }
       }
      }
     },
     "metadata": {},
     "output_type": "display_data"
    }
   ],
   "source": [
    "plot_selected_stocks_by_index(df, [i for i in range(10)], False)"
   ]
  },
  {
   "cell_type": "code",
   "execution_count": null,
   "metadata": {},
   "outputs": [],
   "source": []
  }
 ],
 "metadata": {
  "kernelspec": {
   "display_name": "myenv",
   "language": "python",
   "name": "python3"
  },
  "language_info": {
   "codemirror_mode": {
    "name": "ipython",
    "version": 3
   },
   "file_extension": ".py",
   "mimetype": "text/x-python",
   "name": "python",
   "nbconvert_exporter": "python",
   "pygments_lexer": "ipython3",
   "version": "3.13.5"
  }
 },
 "nbformat": 4,
 "nbformat_minor": 2
}
